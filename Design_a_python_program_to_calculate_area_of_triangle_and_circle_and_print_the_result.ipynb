{
  "nbformat": 4,
  "nbformat_minor": 0,
  "metadata": {
    "colab": {
      "name": "Design-a-python-program-to-calculate-area-of-triangle-and-circle-and-print-the-result.ipynb",
      "provenance": [],
      "collapsed_sections": [],
      "authorship_tag": "ABX9TyMD/QH2dTlYHtqEJFLbNEJW",
      "include_colab_link": true
    },
    "kernelspec": {
      "name": "python3",
      "display_name": "Python 3"
    },
    "language_info": {
      "name": "python"
    }
  },
  "cells": [
    {
      "cell_type": "markdown",
      "metadata": {
        "id": "view-in-github",
        "colab_type": "text"
      },
      "source": [
        "<a href=\"https://colab.research.google.com/github/iamabjunior2003/Python-Ans-bank-Code-By-AB/blob/main/Design_a_python_program_to_calculate_area_of_triangle_and_circle_and_print_the_result.ipynb\" target=\"_parent\"><img src=\"https://colab.research.google.com/assets/colab-badge.svg\" alt=\"Open In Colab\"/></a>"
      ]
    },
    {
      "cell_type": "code",
      "execution_count": 1,
      "metadata": {
        "colab": {
          "base_uri": "https://localhost:8080/"
        },
        "id": "4gI639IZjTDz",
        "outputId": "00e6fcf4-a11e-4ea5-e4d7-8609e8ee9059"
      },
      "outputs": [
        {
          "name": "stdout",
          "output_type": "stream",
          "text": [
            "Enter Height : \n",
            "12\n",
            "Enter Base : \n",
            "10\n"
          ]
        },
        {
          "output_type": "execute_result",
          "data": {
            "text/plain": [
              "240"
            ]
          },
          "metadata": {},
          "execution_count": 1
        }
      ],
      "source": [
        "Height = int(input(\"Enter Height : \\n\"))\n",
        "\n",
        "Base = int(input(\"Enter Base : \\n\"))\n",
        "\n",
        "def Area_of_triangle(Height,Base):\n",
        "    area = 2*Base*Height\n",
        "    return \"Area of triangle : \",area\n",
        "\n",
        "Area_of_triangle(Height,Base)"
      ]
    },
    {
      "cell_type": "code",
      "source": [
        "Redius = int(input(\"Enter Redius : \\n\"))\n",
        "\n",
        "pi = 3.14\n",
        "\n",
        "def Area_of_Circle(r):\n",
        "    return \"Area of Circle : \",pi*r*2\n",
        "\n",
        "Area_of_Circle(Redius)\n",
        "\n"
      ],
      "metadata": {
        "colab": {
          "base_uri": "https://localhost:8080/"
        },
        "id": "cC-nQ8uT9OY8",
        "outputId": "46522e72-38e2-4b4a-b078-a33cc890ed13"
      },
      "execution_count": 3,
      "outputs": [
        {
          "name": "stdout",
          "output_type": "stream",
          "text": [
            "Enter Redius : \n",
            "10\n"
          ]
        },
        {
          "output_type": "execute_result",
          "data": {
            "text/plain": [
              "62.800000000000004"
            ]
          },
          "metadata": {},
          "execution_count": 3
        }
      ]
    }
  ]
}