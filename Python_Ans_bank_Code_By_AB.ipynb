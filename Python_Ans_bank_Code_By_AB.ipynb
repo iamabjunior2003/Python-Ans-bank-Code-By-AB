{
  "nbformat": 4,
  "nbformat_minor": 0,
  "metadata": {
    "colab": {
      "name": "Python-Ans-bank-Code-By-AB.ipynb",
      "provenance": [],
      "collapsed_sections": [],
      "authorship_tag": "ABX9TyMTJYq/m9Ex5F493OLGQzOk",
      "include_colab_link": true
    },
    "kernelspec": {
      "name": "python3",
      "display_name": "Python 3"
    },
    "language_info": {
      "name": "python"
    }
  },
  "cells": [
    {
      "cell_type": "markdown",
      "metadata": {
        "id": "view-in-github",
        "colab_type": "text"
      },
      "source": [
        "<a href=\"https://colab.research.google.com/github/iamabjunior2003/Python-Ans-bank-Code-By-AB/blob/main/Python_Ans_bank_Code_By_AB.ipynb\" target=\"_parent\"><img src=\"https://colab.research.google.com/assets/colab-badge.svg\" alt=\"Open In Colab\"/></a>"
      ]
    },
    {
      "cell_type": "code",
      "execution_count": 4,
      "metadata": {
        "colab": {
          "base_uri": "https://localhost:8080/"
        },
        "id": "WU647j5hbmZN",
        "outputId": "94ccd6e0-3da6-455d-f47b-4e0e101cc3e7"
      },
      "outputs": [
        {
          "output_type": "stream",
          "name": "stdout",
          "text": [
            "['pranali', 'aditi', 'natasha', 'Aarohi']\n"
          ]
        }
      ],
      "source": [
        "# Explain about operations of list with sample program -:\n",
        "\n",
        "# append()-:\n",
        "AB = ['pranali', 'aditi', 'natasha']\n",
        "AB.append(\"Aarohi\")\n",
        "print(AB)\n"
      ]
    },
    {
      "cell_type": "code",
      "source": [
        "# extend()\n",
        "AB = ['aditi', 'Aarohi', 'natasha']\n",
        "Avengers =['Tony','captain','Thor']\n",
        "AB.extend(Avengers)\n",
        "print(AB)"
      ],
      "metadata": {
        "colab": {
          "base_uri": "https://localhost:8080/"
        },
        "id": "OEoQJAlrdXvk",
        "outputId": "47077159-9bf6-4fca-fc7f-cc4ced845500"
      },
      "execution_count": 5,
      "outputs": [
        {
          "output_type": "stream",
          "name": "stdout",
          "text": [
            "['pranali', 'aditi', 'natasha', 'Tony', 'captain', 'Thor']\n"
          ]
        }
      ]
    },
    {
      "cell_type": "code",
      "source": [
        "# insert()\n",
        "Avengers =['Tony','captain','Thor']\n",
        "Avengers.insert(3,\"Clint\")\n",
        "print(Avengers)"
      ],
      "metadata": {
        "colab": {
          "base_uri": "https://localhost:8080/"
        },
        "id": "kS87RRK1dfPM",
        "outputId": "7d40a38c-4780-4744-e19e-4970f7d13883"
      },
      "execution_count": 7,
      "outputs": [
        {
          "output_type": "stream",
          "name": "stdout",
          "text": [
            "['Tony', 'captain', 'Thor', 'Clint']\n"
          ]
        }
      ]
    },
    {
      "cell_type": "code",
      "source": [
        "# remove()\n",
        "Avengers =['Tony','captain','Thor','Clint','DC']\n",
        "Avengers.remove(\"DC\")\n",
        "print(Avengers)"
      ],
      "metadata": {
        "colab": {
          "base_uri": "https://localhost:8080/"
        },
        "id": "xxbn9LJ0eN2X",
        "outputId": "533b0fb0-aa9d-4b8a-a02c-8d1a0f0db960"
      },
      "execution_count": 8,
      "outputs": [
        {
          "output_type": "stream",
          "name": "stdout",
          "text": [
            "['Tony', 'captain', 'Thor', 'Clint']\n"
          ]
        }
      ]
    },
    {
      "cell_type": "code",
      "source": [
        "#  pop()\n",
        "Avengers =['Tony','captain','Thor','Clint','DC']\n",
        "Avengers.pop(4)\n",
        "print(Avengers)"
      ],
      "metadata": {
        "colab": {
          "base_uri": "https://localhost:8080/"
        },
        "id": "gUhzEk-yesOg",
        "outputId": "54e927a3-2faa-43e4-dc97-ec75fbbc6fda"
      },
      "execution_count": 10,
      "outputs": [
        {
          "output_type": "stream",
          "name": "stdout",
          "text": [
            "['Tony', 'captain', 'Thor', 'Clint']\n"
          ]
        }
      ]
    },
    {
      "cell_type": "code",
      "source": [
        "# slice\n",
        "Avengers =['Tony','captain','Thor','Clint','DC']\n",
        "print(Avengers[1]) # print the element at index 1\n",
        "print(Avengers[0:3]) # print the elements up to index 3 but no included index 3\n",
        "print(Avengers[::-1]) # print the list in reverse "
      ],
      "metadata": {
        "colab": {
          "base_uri": "https://localhost:8080/"
        },
        "id": "7MIvc3zge8G9",
        "outputId": "ba310f83-18c2-4cff-8150-c88272ab93e2"
      },
      "execution_count": 11,
      "outputs": [
        {
          "output_type": "stream",
          "name": "stdout",
          "text": [
            "captain\n",
            "['Tony', 'captain', 'Thor']\n",
            "['DC', 'Clint', 'Thor', 'captain', 'Tony']\n"
          ]
        }
      ]
    },
    {
      "cell_type": "code",
      "source": [
        "# reverse()\n",
        "Avengers =['Tony','captain','Thor','Clint','DC']\n",
        "Avengers.reverse()\n",
        "print(Avengers)"
      ],
      "metadata": {
        "colab": {
          "base_uri": "https://localhost:8080/"
        },
        "id": "SW-81upIfv1O",
        "outputId": "f39a8900-398c-42b3-86ec-854a2e8cf59b"
      },
      "execution_count": 12,
      "outputs": [
        {
          "output_type": "stream",
          "name": "stdout",
          "text": [
            "['DC', 'Clint', 'Thor', 'captain', 'Tony']\n"
          ]
        }
      ]
    },
    {
      "cell_type": "code",
      "source": [
        "# len()\n",
        "Avengers =['Tony','captain','Thor','Clint','DC']\n",
        "len(Avengers)\n"
      ],
      "metadata": {
        "colab": {
          "base_uri": "https://localhost:8080/"
        },
        "id": "sfqOTeasgLaw",
        "outputId": "a2c24ba5-5eea-463a-9d1f-a822a781c1e4"
      },
      "execution_count": 14,
      "outputs": [
        {
          "output_type": "execute_result",
          "data": {
            "text/plain": [
              "5"
            ]
          },
          "metadata": {},
          "execution_count": 14
        }
      ]
    },
    {
      "cell_type": "code",
      "source": [
        "# min() and Max()\n",
        "\n",
        "Numbers = [1,23,51,48,56,84,45,61,28]\n",
        "print(max(Numbers))\n",
        "print(min(Numbers))"
      ],
      "metadata": {
        "colab": {
          "base_uri": "https://localhost:8080/"
        },
        "id": "bDFKjGX5gaKP",
        "outputId": "2fdddbbe-0625-4718-8b24-04f831895338"
      },
      "execution_count": 16,
      "outputs": [
        {
          "output_type": "stream",
          "name": "stdout",
          "text": [
            "84\n",
            "1\n"
          ]
        }
      ]
    },
    {
      "cell_type": "code",
      "source": [
        "# Count()\n",
        "Numbers = [1,23,51,48,56,84,45,61,28,54,85,8,58,2,5,5,5]\n",
        "print(Numbers.count(5))"
      ],
      "metadata": {
        "colab": {
          "base_uri": "https://localhost:8080/"
        },
        "id": "KkOZ8oaGg4sI",
        "outputId": "cf70bd24-719a-4fe8-e40d-5e30e9e656e4"
      },
      "execution_count": 19,
      "outputs": [
        {
          "output_type": "stream",
          "name": "stdout",
          "text": [
            "3\n"
          ]
        }
      ]
    },
    {
      "cell_type": "code",
      "source": [
        "# multiply\n",
        "\n",
        "Avengers =['Tony','captain','Thor','Clint','DC']\n",
        "print(Avengers*2)\n",
        "\n"
      ],
      "metadata": {
        "colab": {
          "base_uri": "https://localhost:8080/"
        },
        "id": "EJGiyzWYhSKi",
        "outputId": "016779e7-bbf7-4587-9bc1-4b1b5560ebbb"
      },
      "execution_count": 21,
      "outputs": [
        {
          "output_type": "stream",
          "name": "stdout",
          "text": [
            "['Tony', 'captain', 'Thor', 'Clint', 'DC', 'Tony', 'captain', 'Thor', 'Clint', 'DC']\n"
          ]
        }
      ]
    }
  ]
}