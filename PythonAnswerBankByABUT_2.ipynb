{
  "nbformat": 4,
  "nbformat_minor": 0,
  "metadata": {
    "colab": {
      "name": "PythonAnswerBankByABUT_2.ipynb",
      "provenance": [],
      "collapsed_sections": [],
      "authorship_tag": "ABX9TyNxJY4CTRuZFCINJj5W7Dw5",
      "include_colab_link": true
    },
    "kernelspec": {
      "name": "python3",
      "display_name": "Python 3"
    },
    "language_info": {
      "name": "python"
    }
  },
  "cells": [
    {
      "cell_type": "markdown",
      "metadata": {
        "id": "view-in-github",
        "colab_type": "text"
      },
      "source": [
        "<a href=\"https://colab.research.google.com/github/iamabjunior2003/Python-Ans-bank-Code-By-AB/blob/main/PythonAnswerBankByABUT_2.ipynb\" target=\"_parent\"><img src=\"https://colab.research.google.com/assets/colab-badge.svg\" alt=\"Open In Colab\"/></a>"
      ]
    },
    {
      "cell_type": "code",
      "execution_count": 6,
      "metadata": {
        "colab": {
          "base_uri": "https://localhost:8080/"
        },
        "id": "kaxDpkqG2rEj",
        "outputId": "4adc653e-c696-423b-8d9e-c11110b6315a"
      },
      "outputs": [
        {
          "output_type": "stream",
          "name": "stdout",
          "text": [
            "CAPTAIN is an Avengers\n",
            "NATASHA is also an Avengers\n",
            "My name is Tony Stark\n",
            "My name is Iron Man\n"
          ]
        }
      ],
      "source": [
        "class Dog:\n",
        "\n",
        "\t# class attribute\n",
        "\tattr1 = \"Avengers\"\n",
        "\n",
        "\t# Instance attribute\n",
        "\tdef __init__(self, name):\n",
        "\t\tself.name = name\n",
        "\n",
        "# Object instantiation\n",
        "CAPTAIN = Dog(\"Tony Stark\")\n",
        "NATASHA = Dog(\"Iron Man\")\n",
        "\n",
        "# Accessing class attributes\n",
        "print(\"CAPTAIN is an {}\".format(CAPTAIN.__class__.attr1))\n",
        "print(\"NATASHA is also an {}\".format(NATASHA.__class__.attr1))\n",
        "\n",
        "# Accessing instance attributes\n",
        "print(\"My name is {}\".format(CAPTAIN.name))\n",
        "print(\"My name is {}\".format(NATASHA.name))\n"
      ]
    },
    {
      "cell_type": "markdown",
      "source": [
        "Encapusulation"
      ],
      "metadata": {
        "id": "6zeVL1CU-uvL"
      }
    },
    {
      "cell_type": "code",
      "source": [
        "class Base:\n",
        "    def __init__(self):\n",
        "        self.a = \"GeeksforGeeks\"\n",
        "        self.b = \"d\"\n",
        "  \n",
        "# Creating a derived class\n",
        "class Derived(Base):\n",
        "    def __init__(self):\n",
        "  \n",
        "        # Calling constructor of\n",
        "        # Base class\n",
        "        Base.__init__(self)\n",
        "        print(\"Calling private member of base class: \")\n",
        "        print(self.b)\n",
        "  \n",
        "  \n",
        "# Driver code\n",
        "obj1 = Base()\n",
        "print(obj1.b)"
      ],
      "metadata": {
        "colab": {
          "base_uri": "https://localhost:8080/"
        },
        "id": "pCaitFOs-ySx",
        "outputId": "4e28138c-b890-4ae7-daa6-40b8e752764a"
      },
      "execution_count": 14,
      "outputs": [
        {
          "output_type": "stream",
          "name": "stdout",
          "text": [
            "d\n"
          ]
        }
      ]
    },
    {
      "cell_type": "markdown",
      "source": [
        "Ploymorphisum\n"
      ],
      "metadata": {
        "id": "S5iXPzNb8Hkf"
      }
    },
    {
      "cell_type": "code",
      "source": [
        "class Shild:\n",
        "    \n",
        "    def intro(self):\n",
        "        print(\"There are many Shild of agents.\")\n",
        "  \n",
        "    def powers(self):\n",
        "        print(\"Most of the agents can not have super powers but some have.\")\n",
        "  \n",
        "class Avengers(Shild):\n",
        "\n",
        "\n",
        "    def intro(self):\n",
        "        print(\"There are many members are in team Avengers.\")\n",
        "    \n",
        "    def powers(self):\n",
        "        print(\"Avengers have super powers.\")\n",
        "  \n",
        "class guardian_of_the_galaxy(Avengers):\n",
        "\n",
        "    def intro(self):\n",
        "        print(\"There are 6 guardian_of_the_galaxy of super  Heroes.\")\n",
        "  \n",
        "    def powers(self):\n",
        "        print(\"guardian_of_the_galaxy have super powers.\")\n",
        "  \n",
        "obj_mariya_Hill = Shild()\n",
        "obj_Tony_stark = Avengers()\n",
        "obj_Thor = guardian_of_the_galaxy()\n",
        "  \n",
        "obj_mariya_Hill.intro()\n",
        "obj_mariya_Hill.powers()\n",
        "  \n",
        "obj_Tony_stark.intro()\n",
        "obj_Tony_stark.powers()\n",
        "  \n",
        "obj_Thor.intro()\n",
        "obj_Thor.powers()"
      ],
      "metadata": {
        "colab": {
          "base_uri": "https://localhost:8080/"
        },
        "id": "xB5K-CI08NEQ",
        "outputId": "3794e078-60ad-4e6a-9a38-0e24142b801f"
      },
      "execution_count": 9,
      "outputs": [
        {
          "output_type": "stream",
          "name": "stdout",
          "text": [
            "There are many Shild of agents.\n",
            "Most of the agents can not have super powers but some have.\n",
            "There are many members are in team Avengers.\n",
            "Avengers have super powers.\n",
            "There are 6 guardian_of_the_galaxy of super  Heroes.\n",
            "guardian_of_the_galaxy have super powers.\n"
          ]
        }
      ]
    },
    {
      "cell_type": "markdown",
      "source": [
        "overloading"
      ],
      "metadata": {
        "id": "ymkV5ocv9pzG"
      }
    },
    {
      "cell_type": "code",
      "source": [
        "class Avengers:\n",
        "\tSuperPowers = True\n",
        "\tGood_human = True\n",
        "\t\n",
        "\tdef Action(self):\n",
        "\t    print(\"Fight for right.\")\n",
        "    \n",
        "\tdef work(self):\n",
        "\t    print(\"save the world\")\n",
        "\t    \n",
        "class Thanos(Avengers):\n",
        "    \n",
        "\tdef work(self):\n",
        "\t    print(\"Kill the half of the humans population in one sce\")\n",
        "\n",
        "thanos_child = Thanos()\n",
        "thanos_child.work()\n",
        "thanos_child.Action()"
      ],
      "metadata": {
        "colab": {
          "base_uri": "https://localhost:8080/"
        },
        "id": "ZxyZab8H9qnB",
        "outputId": "4cc86f6b-83e7-41a4-d334-26dcf62a8492"
      },
      "execution_count": 3,
      "outputs": [
        {
          "output_type": "stream",
          "name": "stdout",
          "text": [
            "Kill the half of the humans population in one sce\n",
            "Fight for right.\n"
          ]
        }
      ]
    },
    {
      "cell_type": "markdown",
      "source": [
        "Divide By Zero"
      ],
      "metadata": {
        "id": "UWS52XxFBWbD"
      }
    },
    {
      "cell_type": "code",
      "source": [
        "try:    \n",
        "    a = int(input(\"Enter a: \"))    \n",
        "    b = int(input(\"Enter b: \"))    \n",
        "    if a==0 or b==0:\n",
        "        print(\"the number is less then zero\")\n",
        "\n",
        "except:    \n",
        "\n",
        "    print(\"\")    \n",
        "else:    \n",
        "       print()       \n",
        "\n",
        "\n"
      ],
      "metadata": {
        "colab": {
          "base_uri": "https://localhost:8080/"
        },
        "id": "16jgK890BZWq",
        "outputId": "08d3d709-ac85-41fe-fb9a-383e4cc608b3"
      },
      "execution_count": 12,
      "outputs": [
        {
          "output_type": "stream",
          "name": "stdout",
          "text": [
            "Enter a: 2\n",
            "Enter b: 2\n",
            "a/b = 1\n",
            "['Avengers', 'In', 'Out', 'Thanos', '_', '_10', '_11', '__', '___', '__builtin__', '__builtins__', '__doc__', '__loader__', '__name__', '__package__', '__spec__', '_dh', '_i', '_i1', '_i10', '_i11', '_i12', '_i2', '_i3', '_i4', '_i5', '_i6', '_i7', '_i8', '_i9', '_ih', '_ii', '_iii', '_oh', '_sh', 'a', 'b', 'c', 'exit', 'get_ipython', 'quit', 'thanos_child']\n"
          ]
        }
      ]
    },
    {
      "cell_type": "code",
      "source": [
        "class Avengers:\n",
        "    def Ironman(self):\n",
        "        print(\"I am iron man\")\n",
        "    \n",
        "class Tony(Avengers):\n",
        "    def Tony(self):\n",
        "        print(\"i am tony stark\")\n",
        "    \n",
        "rdj = Tony()\n",
        "rdj.Ironman()\n",
        "rdj.Tony()\n",
        "\n"
      ],
      "metadata": {
        "colab": {
          "base_uri": "https://localhost:8080/"
        },
        "id": "-2f_LRlbnz9k",
        "outputId": "ef58553e-0c89-4291-91f7-283fe35a1fb6"
      },
      "execution_count": 2,
      "outputs": [
        {
          "output_type": "stream",
          "name": "stdout",
          "text": [
            "I am iron man\n",
            "i am tony stark\n"
          ]
        }
      ]
    }
  ]
}